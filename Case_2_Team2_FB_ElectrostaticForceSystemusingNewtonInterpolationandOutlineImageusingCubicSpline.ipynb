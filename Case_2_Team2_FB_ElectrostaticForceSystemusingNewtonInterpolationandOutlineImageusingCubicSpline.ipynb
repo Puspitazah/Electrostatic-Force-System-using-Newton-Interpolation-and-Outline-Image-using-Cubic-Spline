{
  "nbformat": 4,
  "nbformat_minor": 0,
  "metadata": {
    "colab": {
      "provenance": []
    },
    "kernelspec": {
      "name": "python3",
      "display_name": "Python 3"
    },
    "language_info": {
      "name": "python"
    }
  },
  "cells": [
    {
      "cell_type": "markdown",
      "source": [
        "#**CASE 2 - Fisika Komputasi**"
      ],
      "metadata": {
        "id": "PNRTMlsS96y2"
      }
    },
    {
      "cell_type": "markdown",
      "source": [
        "---\n",
        "***Electrostatic Force System using Newton Interpolation and Outline Image using Cubic Spline***\n",
        "---\n",
        "\n",
        "**KELOMPOK 2 - Fisika B**\n",
        "1.   Dhinar Hidayath \t\t       (1306621054)\n",
        "2.   Khansa Farras Callista\tA. (1306621067)\n",
        "3.   Puspa Zuhrotul Kamilah\t   (1306621058)\n",
        "4.   Salma Mardhiyah     \t     (1306621061)\n"
      ],
      "metadata": {
        "id": "4UvvgF_3-DR0"
      }
    },
    {
      "cell_type": "markdown",
      "source": [
        "\n",
        "\n",
        "---\n",
        "\n",
        "\n",
        "**Artikel-1 *Interpolation Newton Electrostatic Force System***"
      ],
      "metadata": {
        "id": "kHt-qKe-_uia"
      }
    },
    {
      "cell_type": "code",
      "execution_count": 8,
      "metadata": {
        "colab": {
          "base_uri": "https://localhost:8080/",
          "height": 1000
        },
        "id": "TZElgsQn9vir",
        "outputId": "5379c3c9-0dfe-42bf-97fe-3e4efe6a44fa"
      },
      "outputs": [
        {
          "output_type": "stream",
          "name": "stdout",
          "text": [
            "================================ METODE NEWTON INTERPOLATION ================================ \n",
            "\n",
            "Perhitungan-1 Capacitance Gradient Measurement Results\n",
            "---> Perhitungan Kapasitansi pada detik (s) ke-26.55\n",
            "\n",
            "Perhitungan-2 AFM Cantilever Stiffness Measurement\n",
            "---> Perhitungan Tegangan pada detik (s) ke-44\n",
            "\n",
            "\n",
            "======================== Capacitance Gradient Measurement Results =========================== \n",
            "\n",
            "TABEL PERHITUNGAN DENGAN METODE NEWTON INTERPOLATION\n",
            "---------------------------------------------------------------------------------------------\n",
            "|       t        |     f(t)       |        ST-1       |       ST-2       |       ST-3       |\n",
            "|-------------------------------------------------------------------------------------------|\n",
            "|     23.105     |    16.33928    |   -0.0002470741   |  0.0002748344    |  -0.0000982334   |\n",
            "|--------------------------------------------------------------------------------------------\n",
            "|     23.874     |    16.33909    |   0.0001190053    |  0.0000788588    |\n",
            "|-------------------------------------------------------------------------\n",
            "|     24.437     |   16.339157    |   0.0002156863    |\n",
            "|------------------------------------------------------\n",
            "|      25.1      |    16.3393     | \n",
            "----------------------------------- \n",
            "\n"
          ]
        },
        {
          "output_type": "display_data",
          "data": {
            "text/plain": [
              "<Figure size 936x108 with 1 Axes>"
            ],
            "image/png": "[encoded data removed]"
          },
          "metadata": {
            "needs_background": "light"
          }
        },
        {
          "output_type": "stream",
          "name": "stdout",
          "text": [
            "\n",
            "Kapasitansi pada 26.55 s adalah sekitar 16.339048954860218 pF\n",
            "\n",
            "\n",
            "\n",
            "======================== AFM Cantilever Stiffness Measurement =========================== \n",
            "\n",
            "TABEL PERHITUNGAN DENGAN METODE NEWTON INTERPOLATION\n",
            "---------------------------------------------------------------------------------------------\n",
            "|       t        |     f(t)       |        ST-1       |       ST-2       |       ST-3       |\n",
            "|-------------------------------------------------------------------------------------------|\n",
            "|       39       |    649.6094    |   2.2437250000    |  -0.5319250000   |  -0.1331708333   |\n",
            "|--------------------------------------------------------------------------------------------\n",
            "|       40       |   651.853125   |   1.1798750000    |  -0.9314375000   |\n",
            "|-------------------------------------------------------------------------\n",
            "|       41       |    653.033     |   -0.6830000000   |\n",
            "|------------------------------------------------------\n",
            "|       42       |     652.35     | \n",
            "----------------------------------- \n",
            "\n"
          ]
        },
        {
          "output_type": "display_data",
          "data": {
            "text/plain": [
              "<Figure size 720x144 with 1 Axes>"
            ],
            "image/png": "[encoded data removed]"
          },
          "metadata": {
            "needs_background": "light"
          }
        },
        {
          "output_type": "stream",
          "name": "stdout",
          "text": [
            "\n",
            "Tegangan pada 44.0 s adalah sekitar 642.1992749999994 V\n"
          ]
        }
      ],
      "source": [
        "# Membuat Grafik dari Data Awal dan Data Akhir\n",
        "def grafik(x, y, detik, fnx, judulx, judul, size):\n",
        "  xnew = np.linspace(x.min(), x.max(), 100) \n",
        "  spl = make_interp_spline(x, y, k=2) # type: BSpline\n",
        "  ynew = spl(xnew)\n",
        "\n",
        "  plt.figure(figsize=(size))\n",
        "  plt.scatter(x, y)\n",
        "  plt.scatter(detik, fnx, color='red')\n",
        "  plt.plot(xnew, ynew)\n",
        "  plt.xlabel('Time (s)')\n",
        "  plt.ylabel(judulx)\n",
        "  plt.title(judul)\n",
        "  plt.grid()\n",
        "  plt.show()\n",
        "  return\n",
        "\n",
        "# Membuat Fungsi Perhitungan Dengan Metode Newton Interpolation\n",
        "def newton_interpolation(x, fy, t):\n",
        "    for i in range(len(x)-1):\n",
        "        list_fz = []\n",
        "        n = i\n",
        "        for j in range(len(fy[i])-1):\n",
        "            fz = (fy[i][j+1]-fy[i][j])/ (x[n+1]-x[j])\n",
        "            list_fz.append(fz)\n",
        "            n += 1\n",
        "        fy.append(list_fz)\n",
        "\n",
        "    fnx = fy[len(fy)-1][0]\n",
        "    for i in range(1, len(fy)):\n",
        "        fnx = fy[len(fy)-1-i][0]+(t-x[len(fy)-1-i])*fnx\n",
        "    return fnx\n",
        "\n",
        "# Membuat Fungsi Mencetak Tabel Perhitungan\n",
        "def tabel(x, y, fy, judul1):\n",
        "    a, b = 0, 0\n",
        "    print(\"\\n\\n\"+\"=\"*24, judul1,\"=\"*27, \"\\n\")\n",
        "    print(\"TABEL PERHITUNGAN DENGAN METODE NEWTON INTERPOLATION\")\n",
        "    print(\"-\"*93)\n",
        "    print(\"{}{:^16}{}{:^15}\".format(\"|\",\"t\",\"|\",\"f(t)\"),\"|\", end=\" \")\n",
        "    for i in range(1, len(y)):\n",
        "        print(\"{:>10}{}{:^6}\".format(\"ST-\",i,\"\"), \"|\", end=\"\")\n",
        "        if i == len(y)-1:\n",
        "          print(\"\")\n",
        "          \n",
        "    n = len(fy)\n",
        "    print(\"|\"+\"-\"*91+\"|\")\n",
        "    for i in range(len(fy)):\n",
        "        print(\"{}{:^16}{}{:^16}{}\".format(\"|\",x[i],\"|\",y[i],\"|\"),end=\" \")\n",
        "        for j in range(n-1):\n",
        "            print(\"{:^17.10f}\".format(fy[j+1][i]),\"|\", end=\"\")\n",
        "            if j == (n-2):\n",
        "              print(\"\")\n",
        "              print(\"|\"+\"-\"*(92+a-b))\n",
        "              a += 1\n",
        "              b += 20\n",
        "        n -= 1\n",
        "    print(\"\")\n",
        "    print(\"-\"*35, \"\\n\")\n",
        "    return\n",
        "\n",
        "# Meng-import modul yang dibutuhkan\n",
        "import numpy as np\n",
        "import matplotlib.pyplot as plt\n",
        "from scipy.interpolate import make_interp_spline, BSpline\n",
        "\n",
        "# Judul dan Identitas Mahasiswa\n",
        "print(\"=\"*32,\"METODE NEWTON INTERPOLATION\",\"=\"*32, \"\\n\")\n",
        "\n",
        "# Menginisiasikan Data Awal - Capacitance Gradient Measurement Results\n",
        "C        = np.array([23.105, 23.874, 24.437, 25.1])\n",
        "tc       = np.array([16.33928, 16.33909, 16.339157, 16.3393])\n",
        "fxc      = []        \n",
        "fxc.append(tc)\n",
        "judulx_c = 'Capacitance (pF)'\n",
        "judul_c  = 'Capacitance Gradient Measurement Results'\n",
        "size_c   = 13, 1.5\n",
        "\n",
        "# Menginisiasikan Data Awal - AFM Cantilever Stiffness Measurement\n",
        "V        = np.array([39, 40, 41, 42])\n",
        "tv       = np.array([649.6094, 651.853125, 653.033, 652.35])\n",
        "fxv      = []        \n",
        "fxv.append(tv)\n",
        "judulx_v = 'Voltage (V)'\n",
        "judul_v  = 'AFM Cantilever Stiffness Measurement'\n",
        "size_v   = 10, 2\n",
        "\n",
        "# Meminta pengguna untuk memasukkan waktu yang diinginkan\n",
        "detik_c  = float(input(\"Perhitungan-1 \"+judul_c+\"\\n---> Perhitungan Kapasitansi pada detik (s) ke-\"))\n",
        "detik_v  = float(input(\"\\n\"+\"Perhitungan-2 \"+judul_v+\"\\n---> Perhitungan Tegangan pada detik (s) ke-\"))\n",
        "\n",
        "# Memanggil Fungsi Perhitungan dan Fungsi Mencetak Tabel Perhitungan\n",
        "fnx_c = newton_interpolation(C, fxc, detik_c)\n",
        "tabel(C, tc, fxc, judul_c)\n",
        "graph_c  = grafik(C, tc, detik_c, fnx_c, judulx_c, judul_c, size_c)\n",
        "print(f\"\\nKapasitansi pada {detik_c} s adalah sekitar {fnx_c} pF\\n\")\n",
        "\n",
        "fnx_v = newton_interpolation(V, fxv, detik_v)\n",
        "tabel(V, tv, fxv, judul_v)\n",
        "graph_v  = grafik(V, tv, detik_v, fnx_v, judulx_v, judul_v, size_v)\n",
        "print(f\"\\nTegangan pada {detik_v} s adalah sekitar {fnx_v} V\")"
      ]
    },
    {
      "cell_type": "markdown",
      "source": [
        "\n",
        "\n",
        "---\n",
        "\n",
        "\n",
        "**Artikel-2 *Cubic Spline***"
      ],
      "metadata": {
        "id": "dHJaolugAJkS"
      }
    }
  ]
}